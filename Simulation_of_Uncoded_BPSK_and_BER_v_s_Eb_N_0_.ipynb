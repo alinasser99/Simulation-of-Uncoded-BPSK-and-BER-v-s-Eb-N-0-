{
  "nbformat": 4,
  "nbformat_minor": 0,
  "metadata": {
    "colab": {
      "name": "Simulation of Uncoded BPSK and BER v:s Eb:N 0 .ipynb",
      "provenance": [],
      "authorship_tag": "ABX9TyM7imTwfLN4+sXTj693eKcX",
      "include_colab_link": true
    },
    "kernelspec": {
      "name": "python3",
      "display_name": "Python 3"
    }
  },
  "cells": [
    {
      "cell_type": "markdown",
      "metadata": {
        "id": "view-in-github",
        "colab_type": "text"
      },
      "source": [
        "<a href=\"https://colab.research.google.com/github/alinasser99/Simulation-of-Uncoded-BPSK-and-BER-v-s-Eb-N-0-/blob/master/Simulation_of_Uncoded_BPSK_and_BER_v_s_Eb_N_0_.ipynb\" target=\"_parent\"><img src=\"https://colab.research.google.com/assets/colab-badge.svg\" alt=\"Open In Colab\"/></a>"
      ]
    },
    {
      "cell_type": "code",
      "metadata": {
        "id": "PXEWBvH3ASe7",
        "colab_type": "code",
        "colab": {
          "base_uri": "https://localhost:8080/",
          "height": 33
        },
        "outputId": "49c2dfe7-8667-424d-d9dc-7e9550157514"
      },
      "source": [
        "import math\n",
        "import numpy as np\n",
        "EbNodb=10.5\n",
        "R=1 #uncodedBPSK(1bit/symbol)\n",
        "EbNo=10**(EbNodb/10)\n",
        "sigma=math.sqrt(1/(2*R*EbNo))\n",
        "sigma"
      ],
      "execution_count": 36,
      "outputs": [
        {
          "output_type": "execute_result",
          "data": {
            "text/plain": [
              "0.21109842942733437"
            ]
          },
          "metadata": {
            "tags": []
          },
          "execution_count": 36
        }
      ]
    },
    {
      "cell_type": "code",
      "metadata": {
        "id": "YWT-u7pZApME",
        "colab_type": "code",
        "colab": {
          "base_uri": "https://localhost:8080/",
          "height": 33
        },
        "outputId": "e8da0328-7828-4a4b-b3e4-2ebdb0b1bd43"
      },
      "source": [
        "BER_th=0.5*math.erfc(math.sqrt(EbNo))\n",
        "BER_th\n"
      ],
      "execution_count": 37,
      "outputs": [
        {
          "output_type": "execute_result",
          "data": {
            "text/plain": [
              "1.0838484217430737e-06"
            ]
          },
          "metadata": {
            "tags": []
          },
          "execution_count": 37
        }
      ]
    },
    {
      "cell_type": "code",
      "metadata": {
        "id": "LMYciA0CET9R",
        "colab_type": "code",
        "colab": {}
      },
      "source": [
        "#N=100000000\n",
        "#msg=np.random.randint(2, size=100000000)\n",
        "#s=1-2*msg#BPSK bit to symbol conversion\n",
        "#r=s+sigma*np.random.normal(0,1,100000000) #AWGN Channel\n",
        "#msg_cap=(r<0)\n",
        "#k=sum(msg!=msg_cap)#total errors\n",
        "#BER_sum=k/N\n",
        "#print(BER_sum)\n",
        "#print(k)"
      ],
      "execution_count": 38,
      "outputs": []
    },
    {
      "cell_type": "markdown",
      "metadata": {
        "id": "DBGbww56IQo9",
        "colab_type": "text"
      },
      "source": [
        ""
      ]
    },
    {
      "cell_type": "code",
      "metadata": {
        "id": "lX-pMnxSIFIK",
        "colab_type": "code",
        "colab": {
          "base_uri": "https://localhost:8080/",
          "height": 33
        },
        "outputId": "92242e90-5e60-41c0-817a-d31ca3778ab5"
      },
      "source": [
        "N1=1000  #No. of bits of message per block\n",
        "NoOfError=0\n",
        "NoOfBlocks=100000\n",
        "for x in range(NoOfBlocks):\n",
        "  msg=np.random.randint(2, size=N1)\n",
        "  #Encoding\n",
        "  s=1-2*msg\n",
        "  r=s+sigma*np.random.normal(0,1,N1)\n",
        "  #Decoding\n",
        "  msg_cap=(r<0)\n",
        "  NoOfError=NoOfError+sum(msg!=msg_cap)\n",
        "  \n",
        "BER_sum=NoOfError/N1/NoOfBlocks\n",
        "print(BER_sum)\n"
      ],
      "execution_count": 39,
      "outputs": [
        {
          "output_type": "stream",
          "text": [
            "1.1e-06\n"
          ],
          "name": "stdout"
        }
      ]
    },
    {
      "cell_type": "code",
      "metadata": {
        "id": "XDPFZUS_P1qc",
        "colab_type": "code",
        "colab": {
          "base_uri": "https://localhost:8080/",
          "height": 33
        },
        "outputId": "c8aa8bbc-a2e5-437c-c4ca-ad4ed38116db"
      },
      "source": [
        "print(NoOfError)"
      ],
      "execution_count": 41,
      "outputs": [
        {
          "output_type": "stream",
          "text": [
            "110\n"
          ],
          "name": "stdout"
        }
      ]
    },
    {
      "cell_type": "code",
      "metadata": {
        "id": "3jRlPW7NSATd",
        "colab_type": "code",
        "colab": {}
      },
      "source": [
        ""
      ],
      "execution_count": null,
      "outputs": []
    }
  ]
}